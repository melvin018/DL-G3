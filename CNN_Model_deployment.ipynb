{
  "cells": [
    {
      "cell_type": "code",
      "execution_count": 1,
      "metadata": {
        "id": "-QSNSamHUmb5"
      },
      "outputs": [],
      "source": [
        "import os\n",
        "import cv2\n",
        "import numpy as np\n",
        "import pandas as pd\n",
        "import time\n",
        "from sklearn.model_selection import train_test_split\n",
        "import seaborn as sns\n",
        "from sklearn.metrics import confusion_matrix, roc_auc_score, classification_report,roc_curve,auc\n",
        "from sklearn.metrics import accuracy_score\n",
        "\n",
        "from sklearn.metrics import roc_auc_score, confusion_matrix, ConfusionMatrixDisplay\n",
        "import matplotlib.pyplot as plt"
      ]
    },
    {
      "cell_type": "code",
      "execution_count": 2,
      "metadata": {
        "id": "5IfHKc3eUm-Z"
      },
      "outputs": [],
      "source": [
        "import tensorflow as tf\n",
        "from tensorflow.keras import layers, models\n",
        "from tensorflow.keras.applications import VGG16\n",
        "from tensorflow.keras.preprocessing.image import ImageDataGenerator\n",
        "from tensorflow.keras.optimizers import Adam\n",
        "from tensorflow.keras.utils import to_categorical"
      ]
    },
    {
      "cell_type": "code",
      "execution_count": 3,
      "metadata": {
        "colab": {
          "base_uri": "https://localhost:8080/"
        },
        "id": "k4SYTt72Uppd",
        "outputId": "4ae302e9-562d-4001-97ab-eb9428788190"
      },
      "outputs": [
        {
          "output_type": "stream",
          "name": "stdout",
          "text": [
            "Mounted at /content/drive\n"
          ]
        }
      ],
      "source": [
        "from google.colab import drive\n",
        "drive.mount('/content/drive')"
      ]
    },
    {
      "cell_type": "code",
      "execution_count": 4,
      "metadata": {
        "id": "a3zvNCXNVAzs"
      },
      "outputs": [],
      "source": [
        "#Read image data\n",
        "def read_image(data_dir,filepath):\n",
        "    return cv2.imread(os.path.join(data_dir, filepath))\n",
        "\n",
        "def resize_image(image, image_size):\n",
        "    return cv2.resize(image.copy(), image_size,\n",
        "                      interpolation=cv2.INTER_AREA)"
      ]
    },
    {
      "cell_type": "code",
      "execution_count": 5,
      "metadata": {
        "id": "R77wi-mpVRoE"
      },
      "outputs": [],
      "source": [
        "# Define the path to your directory\n",
        "directory_path = '/content/drive/My Drive/FaceExpressions/dataset/'\n",
        "\n",
        "def img_list_return(directory_path,cls_name):\n",
        "  global image_array_data\n",
        "  global image_label\n",
        "\n",
        "  IMAGE_SIZE = 64\n",
        "\n",
        "  # List all files in the directory\n",
        "  file_folder = os.path.join(directory_path,cls_name)\n",
        "  files = os.listdir(file_folder)\n",
        "\n",
        "\n",
        "  # Print the list of files\n",
        "  for file in files:\n",
        "      img_data = read_image(file_folder,file)\n",
        "      img_data = resize_image(img_data, (IMAGE_SIZE, IMAGE_SIZE))\n",
        "      img_data = img_data/255\n",
        "      image_array_data.append(img_data)\n",
        "      image_label.append(cls_name.lower())\n",
        "\n",
        "  return image_array_data,image_label"
      ]
    },
    {
      "cell_type": "code",
      "execution_count": 6,
      "metadata": {
        "id": "7JMRKEViVUWT"
      },
      "outputs": [],
      "source": [
        "import os\n",
        "import cv2\n",
        "\n",
        "# Define the path to your directory\n",
        "directory_path = '/content/drive/My Drive/FaceExpressions/dataset/'\n",
        "\n",
        "def read_image(folder, file):\n",
        "    image_path = os.path.join(folder, file)\n",
        "    image = cv2.imread(image_path)\n",
        "    if image is not None:\n",
        "        # Ensure the image has 3 channels (RGB)\n",
        "        if len(image.shape) == 2:  # Grayscale image\n",
        "            image = cv2.cvtColor(image, cv2.COLOR_GRAY2RGB)\n",
        "        elif image.shape[2] == 4:  # RGBA image\n",
        "            image = cv2.cvtColor(image, cv2.COLOR_RGBA2RGB)\n",
        "    return image\n",
        "\n",
        "def resize_image(image, size):\n",
        "    return cv2.resize(image, size)\n",
        "\n",
        "def img_list_return(directory_path, cls_name):\n",
        "    global image_array_data\n",
        "    global image_label\n",
        "\n",
        "    IMAGE_SIZE = 64\n",
        "\n",
        "    # List all files in the directory\n",
        "    file_folder = os.path.join(directory_path, cls_name)\n",
        "    files = os.listdir(file_folder)\n",
        "\n",
        "    # Print the list of files\n",
        "    for file in files:\n",
        "        img_data = read_image(file_folder, file)\n",
        "        if img_data is not None:  # Check if image reading was successful\n",
        "            img_data = resize_image(img_data, (IMAGE_SIZE, IMAGE_SIZE))\n",
        "            img_data = img_data / 255.0\n",
        "            image_array_data.append(img_data)\n",
        "            image_label.append(cls_name.lower())\n",
        "\n",
        "    return image_array_data, image_label\n",
        "\n",
        "# Initialize the global variables\n",
        "image_array_data = []\n",
        "image_label = []\n"
      ]
    },
    {
      "cell_type": "code",
      "execution_count": 7,
      "metadata": {
        "id": "hjppn0UaVWmu"
      },
      "outputs": [],
      "source": [
        "cls_name = \"Angry\"\n",
        "image_array_data, image_label = img_list_return(directory_path, cls_name)"
      ]
    },
    {
      "cell_type": "code",
      "execution_count": 8,
      "metadata": {
        "id": "QXI-ZUcbWgtq"
      },
      "outputs": [],
      "source": [
        "cls_name = \"Ahegao\"\n",
        "image_array_data,image_label = img_list_return(directory_path,cls_name)"
      ]
    },
    {
      "cell_type": "code",
      "execution_count": 9,
      "metadata": {
        "id": "YpaKXXVUWn1H"
      },
      "outputs": [],
      "source": [
        "cls_name = \"Happy\"\n",
        "image_array_data,image_label = img_list_return(directory_path,cls_name)"
      ]
    },
    {
      "cell_type": "code",
      "execution_count": 10,
      "metadata": {
        "id": "NRM1xmoCWqSZ"
      },
      "outputs": [],
      "source": [
        "cls_name = \"Neutral\"\n",
        "image_array_data,image_label = img_list_return(directory_path,cls_name)"
      ]
    },
    {
      "cell_type": "code",
      "execution_count": 11,
      "metadata": {
        "id": "CVvd_KxbWtKb"
      },
      "outputs": [],
      "source": [
        "cls_name = \"Sad\"\n",
        "image_array_data,image_label = img_list_return(directory_path,cls_name)"
      ]
    },
    {
      "cell_type": "code",
      "execution_count": 12,
      "metadata": {
        "id": "mFlLULeJWwM_"
      },
      "outputs": [],
      "source": [
        "cls_name = \"Surprise\"\n",
        "image_array_data,image_label = img_list_return(directory_path,cls_name)"
      ]
    },
    {
      "cell_type": "code",
      "execution_count": 13,
      "metadata": {
        "colab": {
          "base_uri": "https://localhost:8080/"
        },
        "id": "OcZ7SX82Wy-d",
        "outputId": "3f171df3-04c3-4ee0-a61d-d63897c38d1c"
      },
      "outputs": [
        {
          "output_type": "execute_result",
          "data": {
            "text/plain": [
              "array([[[0.54509804, 0.54509804, 0.54509804],\n",
              "        [0.51372549, 0.51372549, 0.51372549],\n",
              "        [0.55686275, 0.55686275, 0.55686275],\n",
              "        ...,\n",
              "        [0.45882353, 0.45882353, 0.45882353],\n",
              "        [0.52941176, 0.52941176, 0.52941176],\n",
              "        [0.28627451, 0.28627451, 0.28627451]],\n",
              "\n",
              "       [[0.61960784, 0.61960784, 0.61960784],\n",
              "        [0.51764706, 0.51764706, 0.51764706],\n",
              "        [0.36078431, 0.36078431, 0.36078431],\n",
              "        ...,\n",
              "        [0.32941176, 0.32941176, 0.32941176],\n",
              "        [0.32941176, 0.32941176, 0.32941176],\n",
              "        [0.30196078, 0.30196078, 0.30196078]],\n",
              "\n",
              "       [[0.38039216, 0.38039216, 0.38039216],\n",
              "        [0.36470588, 0.36470588, 0.36470588],\n",
              "        [0.36470588, 0.36470588, 0.36470588],\n",
              "        ...,\n",
              "        [0.37647059, 0.37647059, 0.37647059],\n",
              "        [0.4       , 0.4       , 0.4       ],\n",
              "        [0.37647059, 0.37647059, 0.37647059]],\n",
              "\n",
              "       ...,\n",
              "\n",
              "       [[0.16470588, 0.16470588, 0.16470588],\n",
              "        [0.14901961, 0.14901961, 0.14901961],\n",
              "        [0.18039216, 0.18039216, 0.18039216],\n",
              "        ...,\n",
              "        [0.46666667, 0.46666667, 0.46666667],\n",
              "        [0.59215686, 0.59215686, 0.59215686],\n",
              "        [0.67843137, 0.67843137, 0.67843137]],\n",
              "\n",
              "       [[0.20784314, 0.20784314, 0.20784314],\n",
              "        [0.16862745, 0.16862745, 0.16862745],\n",
              "        [0.13333333, 0.13333333, 0.13333333],\n",
              "        ...,\n",
              "        [0.59607843, 0.59607843, 0.59607843],\n",
              "        [0.67058824, 0.67058824, 0.67058824],\n",
              "        [0.72941176, 0.72941176, 0.72941176]],\n",
              "\n",
              "       [[0.16862745, 0.16862745, 0.16862745],\n",
              "        [0.16470588, 0.16470588, 0.16470588],\n",
              "        [0.17254902, 0.17254902, 0.17254902],\n",
              "        ...,\n",
              "        [0.70980392, 0.70980392, 0.70980392],\n",
              "        [0.71764706, 0.71764706, 0.71764706],\n",
              "        [0.75294118, 0.75294118, 0.75294118]]])"
            ]
          },
          "metadata": {},
          "execution_count": 13
        }
      ],
      "source": [
        "image_array_data[0]"
      ]
    },
    {
      "cell_type": "code",
      "execution_count": 14,
      "metadata": {
        "id": "hDxghIzEZHdq"
      },
      "outputs": [],
      "source": [
        "X = np.array(image_array_data)"
      ]
    },
    {
      "cell_type": "code",
      "execution_count": 15,
      "metadata": {
        "id": "7DR16-Y9ZLA5"
      },
      "outputs": [],
      "source": [
        "mapping = {\"ahegao\": 2, \"angry\": 0,\"happy\":1,\"sad\":3,\"neutral\":4,\"surprise\":5}\n",
        "# Map list values to numerical values\n",
        "labels = [mapping[value] for value in image_label]"
      ]
    },
    {
      "cell_type": "code",
      "execution_count": 16,
      "metadata": {
        "id": "kzU4S5WHZM1S"
      },
      "outputs": [],
      "source": [
        "y = np.array(labels)"
      ]
    },
    {
      "cell_type": "code",
      "execution_count": 17,
      "metadata": {
        "colab": {
          "base_uri": "https://localhost:8080/"
        },
        "id": "Z9Xs8pceZOkP",
        "outputId": "01b2edda-bbed-4fb6-e33e-940c26be458d"
      },
      "outputs": [
        {
          "output_type": "execute_result",
          "data": {
            "text/plain": [
              "(15477, 64, 64, 3)"
            ]
          },
          "metadata": {},
          "execution_count": 17
        }
      ],
      "source": [
        "X.shape"
      ]
    },
    {
      "cell_type": "code",
      "execution_count": 18,
      "metadata": {
        "colab": {
          "base_uri": "https://localhost:8080/"
        },
        "id": "3uc2BAg5ZQY3",
        "outputId": "74b9a906-52af-4411-8993-aecc3a9d9ef2"
      },
      "outputs": [
        {
          "output_type": "execute_result",
          "data": {
            "text/plain": [
              "(15477,)"
            ]
          },
          "metadata": {},
          "execution_count": 18
        }
      ],
      "source": [
        "y.shape"
      ]
    },
    {
      "cell_type": "markdown",
      "metadata": {
        "id": "gN5Y3z98ZZ97"
      },
      "source": [
        "## Taking sample from dataset"
      ]
    },
    {
      "cell_type": "code",
      "execution_count": 19,
      "metadata": {
        "id": "aUnFh-_XZWSH"
      },
      "outputs": [],
      "source": [
        "def create_equal_proportion_subset(X, y):\n",
        "    unique_classes = np.unique(y)\n",
        "    min_class_count = min([np.sum(y == cls) for cls in unique_classes])\n",
        "\n",
        "    X_subset = []\n",
        "    y_subset = []\n",
        "\n",
        "    for cls in unique_classes:\n",
        "        class_indices = np.where(y == cls)[0]\n",
        "        sampled_indices = np.random.choice(class_indices, min_class_count, replace=False)\n",
        "        X_subset.append(X[sampled_indices])\n",
        "        y_subset.append(y[sampled_indices])\n",
        "\n",
        "    X_subset = np.concatenate(X_subset)\n",
        "    y_subset = np.concatenate(y_subset)\n",
        "\n",
        "    return X_subset, y_subset"
      ]
    },
    {
      "cell_type": "code",
      "execution_count": 20,
      "metadata": {
        "id": "FjQv-lOLZf9c"
      },
      "outputs": [],
      "source": [
        "X,y = create_equal_proportion_subset(X, y)"
      ]
    },
    {
      "cell_type": "code",
      "execution_count": 21,
      "metadata": {
        "colab": {
          "base_uri": "https://localhost:8080/"
        },
        "id": "xv_4f9tJaDNY",
        "outputId": "181cd6d5-07c1-4d93-f682-099cec49c871"
      },
      "outputs": [
        {
          "output_type": "stream",
          "name": "stdout",
          "text": [
            "Shape of X: (7230, 64, 64, 3)\n",
            "Shape of y: (7230,)\n"
          ]
        }
      ],
      "source": [
        "print('Shape of X:', X.shape)\n",
        "print('Shape of y:', y.shape)"
      ]
    },
    {
      "cell_type": "markdown",
      "metadata": {
        "id": "byBao1dCaH3u"
      },
      "source": [
        "## Data augmentation"
      ]
    },
    {
      "cell_type": "code",
      "execution_count": 22,
      "metadata": {
        "id": "sSeVdwy9aE89"
      },
      "outputs": [],
      "source": [
        "# Function to create balanced dataset with augmentation for classes with fewer samples\n",
        "def augment_class(X, y, target_class, target_count):\n",
        "    datagen = ImageDataGenerator(\n",
        "        rotation_range=20,\n",
        "        width_shift_range=0.2,\n",
        "        height_shift_range=0.2,\n",
        "        shear_range=0.2,\n",
        "        zoom_range=0.2,\n",
        "        horizontal_flip=True,\n",
        "        fill_mode='nearest'\n",
        "    )\n",
        "\n",
        "    class_indices = np.where(y == target_class)[0]\n",
        "    class_samples = X[class_indices]\n",
        "\n",
        "    augmented_images = []\n",
        "    while len(augmented_images) < target_count:\n",
        "        for batch in datagen.flow(class_samples, batch_size=1):\n",
        "            augmented_images.append(batch[0])\n",
        "            if len(augmented_images) >= target_count:\n",
        "                break\n",
        "\n",
        "    X_augmented = np.concatenate([X, np.array(augmented_images)])\n",
        "    y_augmented = np.concatenate([y, np.full(len(augmented_images), target_class)])\n",
        "\n",
        "    return X_augmented, y_augmented"
      ]
    },
    {
      "cell_type": "code",
      "execution_count": 23,
      "metadata": {
        "id": "bPO3uhLnaOVc"
      },
      "outputs": [],
      "source": [
        "X,y = augment_class(X, y, 0, 60)\n",
        "X,y = augment_class(X, y, 1, 60)\n",
        "X,y = augment_class(X, y, 2, 60)\n",
        "X,y = augment_class(X, y, 3, 60)\n",
        "X,y = augment_class(X, y, 4, 60)\n",
        "X,y  = augment_class(X, y, 5, 60)"
      ]
    },
    {
      "cell_type": "code",
      "execution_count": 24,
      "metadata": {
        "id": "-6O4bpMvaQ58"
      },
      "outputs": [],
      "source": [
        "y = to_categorical(y, num_classes=6)"
      ]
    },
    {
      "cell_type": "code",
      "execution_count": 25,
      "metadata": {
        "colab": {
          "base_uri": "https://localhost:8080/"
        },
        "id": "fW-vsLeRaT96",
        "outputId": "c205ea89-c3a2-478e-8aaf-bb3ca1763351"
      },
      "outputs": [
        {
          "output_type": "stream",
          "name": "stdout",
          "text": [
            "Shape of X: (7590, 64, 64, 3)\n",
            "Shape of y: (7590, 6)\n"
          ]
        }
      ],
      "source": [
        "print('Shape of X:', X.shape)\n",
        "print('Shape of y:', y.shape)"
      ]
    },
    {
      "cell_type": "markdown",
      "metadata": {
        "id": "uddWAm39apJg"
      },
      "source": [
        "## Train-Test-Split Dataset"
      ]
    },
    {
      "cell_type": "code",
      "execution_count": 26,
      "metadata": {
        "id": "ad_eKUDpam6x"
      },
      "outputs": [],
      "source": [
        "X_train, X_test, y_train, y_test = train_test_split(X, y, test_size=0.2, random_state=42)"
      ]
    },
    {
      "cell_type": "code",
      "execution_count": 26,
      "metadata": {
        "id": "4zDaXK6iaxPI"
      },
      "outputs": [],
      "source": []
    },
    {
      "cell_type": "code",
      "execution_count": 27,
      "metadata": {
        "id": "m3zP_Rpdz-xV"
      },
      "outputs": [],
      "source": [
        "\n",
        "from keras.models import Sequential\n",
        "from keras.layers import Conv2D, MaxPooling2D, Dropout, Flatten, Dense\n",
        "from keras.optimizers import Adam\n",
        "\n",
        "def create_cnn_model():\n",
        "    model = Sequential()\n",
        "\n",
        "    # Add layers\n",
        "    model.add(Conv2D(32, (3, 3), activation='relu', input_shape=(64, 64, 3)))\n",
        "    model.add(MaxPooling2D(pool_size=(2, 2)))\n",
        "    model.add(Dropout(0.25))\n",
        "\n",
        "    model.add(Conv2D(64, (3, 3), activation='relu'))\n",
        "    model.add(MaxPooling2D(pool_size=(2, 2)))\n",
        "    model.add(Dropout(0.25))\n",
        "\n",
        "    model.add(Conv2D(128, (3, 3), activation='relu'))\n",
        "    model.add(MaxPooling2D(pool_size=(2, 2)))\n",
        "    model.add(Dropout(0.25))\n",
        "\n",
        "    model.add(Flatten())\n",
        "    model.add(Dense(256, activation='relu'))\n",
        "    model.add(Dropout(0.5))\n",
        "    model.add(Dense(6, activation='softmax'))\n",
        "\n",
        "    return model\n"
      ]
    },
    {
      "cell_type": "code",
      "execution_count": 28,
      "metadata": {
        "colab": {
          "base_uri": "https://localhost:8080/"
        },
        "id": "8w0rbFIDa9_Z",
        "outputId": "eed71854-2d66-4de2-8e2b-8a88c3aa20e4"
      },
      "outputs": [
        {
          "output_type": "stream",
          "name": "stdout",
          "text": [
            "Model: \"sequential\"\n",
            "_________________________________________________________________\n",
            " Layer (type)                Output Shape              Param #   \n",
            "=================================================================\n",
            " conv2d (Conv2D)             (None, 62, 62, 32)        896       \n",
            "                                                                 \n",
            " max_pooling2d (MaxPooling2  (None, 31, 31, 32)        0         \n",
            " D)                                                              \n",
            "                                                                 \n",
            " dropout (Dropout)           (None, 31, 31, 32)        0         \n",
            "                                                                 \n",
            " conv2d_1 (Conv2D)           (None, 29, 29, 64)        18496     \n",
            "                                                                 \n",
            " max_pooling2d_1 (MaxPoolin  (None, 14, 14, 64)        0         \n",
            " g2D)                                                            \n",
            "                                                                 \n",
            " dropout_1 (Dropout)         (None, 14, 14, 64)        0         \n",
            "                                                                 \n",
            " conv2d_2 (Conv2D)           (None, 12, 12, 128)       73856     \n",
            "                                                                 \n",
            " max_pooling2d_2 (MaxPoolin  (None, 6, 6, 128)         0         \n",
            " g2D)                                                            \n",
            "                                                                 \n",
            " dropout_2 (Dropout)         (None, 6, 6, 128)         0         \n",
            "                                                                 \n",
            " flatten (Flatten)           (None, 4608)              0         \n",
            "                                                                 \n",
            " dense (Dense)               (None, 256)               1179904   \n",
            "                                                                 \n",
            " dropout_3 (Dropout)         (None, 256)               0         \n",
            "                                                                 \n",
            " dense_1 (Dense)             (None, 6)                 1542      \n",
            "                                                                 \n",
            "=================================================================\n",
            "Total params: 1274694 (4.86 MB)\n",
            "Trainable params: 1274694 (4.86 MB)\n",
            "Non-trainable params: 0 (0.00 Byte)\n",
            "_________________________________________________________________\n"
          ]
        }
      ],
      "source": [
        "# Create and compile the model\n",
        "cnn_model = create_cnn_model()\n",
        "cnn_model.compile(optimizer=Adam(), loss='categorical_crossentropy', metrics=['accuracy'])\n",
        "cnn_model.summary()"
      ]
    },
    {
      "cell_type": "code",
      "execution_count": 29,
      "metadata": {
        "colab": {
          "base_uri": "https://localhost:8080/"
        },
        "id": "8QZpI5vWa_Ic",
        "outputId": "31e8e077-32ae-4a8e-ed61-dc4c66e35e8e"
      },
      "outputs": [
        {
          "output_type": "stream",
          "name": "stdout",
          "text": [
            "Epoch 1/5\n",
            "190/190 [==============================] - 49s 251ms/step - loss: 1.7414 - accuracy: 0.2401\n",
            "Epoch 2/5\n",
            "190/190 [==============================] - 47s 247ms/step - loss: 1.4799 - accuracy: 0.3990\n",
            "Epoch 3/5\n",
            "190/190 [==============================] - 47s 245ms/step - loss: 1.3102 - accuracy: 0.4794\n",
            "Epoch 4/5\n",
            "190/190 [==============================] - 46s 243ms/step - loss: 1.1889 - accuracy: 0.5295\n",
            "Epoch 5/5\n",
            "190/190 [==============================] - 46s 243ms/step - loss: 1.0962 - accuracy: 0.5769\n",
            "48/48 [==============================] - 5s 92ms/step - loss: 1.0530 - accuracy: 0.5929\n",
            "Test accuracy: 0.5928853750228882\n"
          ]
        }
      ],
      "source": [
        "# Train the model\n",
        "cnn_model.fit(X_train, y_train, epochs=5, batch_size=32)\n",
        "\n",
        "# Evaluate the model on the test set\n",
        "test_loss, test_accuracy = cnn_model.evaluate(X_test, y_test)\n",
        "print(f\"Test accuracy: {test_accuracy}\")\n"
      ]
    },
    {
      "cell_type": "code",
      "execution_count": 30,
      "metadata": {
        "colab": {
          "base_uri": "https://localhost:8080/"
        },
        "id": "LCgHAWnhbRZV",
        "outputId": "574b6410-15a8-4d22-e170-a5af31fa4b8b"
      },
      "outputs": [
        {
          "output_type": "stream",
          "name": "stdout",
          "text": [
            "48/48 [==============================] - 3s 55ms/step\n"
          ]
        }
      ],
      "source": [
        "y_pred_prob = cnn_model.predict(X_test)"
      ]
    },
    {
      "cell_type": "code",
      "execution_count": 31,
      "metadata": {
        "id": "-95eotxidTui"
      },
      "outputs": [],
      "source": [
        "# Convert predictions and true labels from one-hot encoding to label indices\n",
        "y_val_pred_classes = np.argmax(y_pred_prob, axis=1)\n",
        "y_val_true_classes = np.argmax(y_test, axis=1)\n",
        "\n",
        "# Compute the confusion matrix\n",
        "conf_matrix = confusion_matrix(y_val_true_classes, y_val_pred_classes)"
      ]
    },
    {
      "cell_type": "code",
      "execution_count": 32,
      "metadata": {
        "colab": {
          "base_uri": "https://localhost:8080/",
          "height": 718
        },
        "id": "sdA6gIGpddix",
        "outputId": "f8e75db9-f5f4-442c-c426-7d20171830f7"
      },
      "outputs": [
        {
          "output_type": "display_data",
          "data": {
            "text/plain": [
              "<Figure size 1000x800 with 2 Axes>"
            ],
            "image/png": "[encoded data removed]"
          },
          "metadata": {}
        }
      ],
      "source": [
        "# Compute the confusion matrix\n",
        "conf_matrix = confusion_matrix(y_val_true_classes, y_val_pred_classes)\n",
        "\n",
        "# Plot the confusion matrix\n",
        "plt.figure(figsize=(10, 8))\n",
        "sns.heatmap(conf_matrix, annot=True, fmt='d', cmap='Purples', xticklabels=[f'Class {i}' for i in range(6)], yticklabels=[f'Class {i}' for i in range(6)])\n",
        "plt.xlabel('Predicted')\n",
        "plt.ylabel('True')\n",
        "plt.title('Confusion Matrix')\n",
        "plt.show()"
      ]
    },
    {
      "cell_type": "markdown",
      "metadata": {
        "id": "44Z0XO0xeRpC"
      },
      "source": [
        "# Model Tuning:"
      ]
    },
    {
      "cell_type": "code",
      "execution_count": 40,
      "metadata": {
        "id": "-iFjeOwjdhld"
      },
      "outputs": [],
      "source": [
        "# Define function to create the model\n",
        "def create_model(learning_rate=0.001, dropout_rate=0.5):\n",
        "\n",
        "    model = models.Sequential([\n",
        "        layers.Flatten(),\n",
        "        layers.Dense(256, activation='relu'),\n",
        "        layers.Dropout(dropout_rate),\n",
        "        layers.Dense(6, activation='softmax')\n",
        "    ])\n",
        "\n",
        "    optimizer = Adam(learning_rate=learning_rate)\n",
        "    model.compile(optimizer=optimizer, loss='categorical_crossentropy', metrics=['accuracy'])\n",
        "    return model"
      ]
    },
    {
      "cell_type": "code",
      "execution_count": 42,
      "metadata": {
        "id": "JqE6XX8mfyoZ",
        "outputId": "8516cc08-0e9e-41f9-8846-63e78075dfc2",
        "colab": {
          "base_uri": "https://localhost:8080/"
        }
      },
      "outputs": [
        {
          "output_type": "stream",
          "name": "stdout",
          "text": [
            "48/48 [==============================] - 0s 9ms/step\n",
            "48/48 [==============================] - 1s 10ms/step\n",
            "48/48 [==============================] - 1s 12ms/step\n",
            "48/48 [==============================] - 1s 14ms/step\n"
          ]
        }
      ],
      "source": [
        "# Define hyperparameter ranges\n",
        "learning_rates = [0.001, 0.0001]\n",
        "dropout_rates = [0,0.1]\n",
        "\n",
        "best_accuracy = 0\n",
        "best_hyperparams = {}\n",
        "\n",
        "# Empirical tuning\n",
        "for lr in learning_rates:\n",
        "    for dr in dropout_rates:\n",
        "        model = create_model(learning_rate=lr, dropout_rate=dr)\n",
        "        model.fit(X_train, y_train, epochs=5, batch_size=32, validation_data=(X_test, y_test), verbose=0)\n",
        "\n",
        "        # Evaluate the model\n",
        "        y_val_pred = model.predict(X_test)\n",
        "        y_val_pred_classes = np.argmax(y_val_pred, axis=1)\n",
        "        y_val_true_classes = np.argmax(y_test, axis=1)\n",
        "        accuracy = accuracy_score(y_val_true_classes, y_val_pred_classes)\n",
        "\n",
        "        # Check if this is the best model\n",
        "        if accuracy > best_accuracy:\n",
        "            best_accuracy = accuracy\n",
        "            best_hyperparams = {'learning_rate': lr, 'dropout_rate': dr}"
      ]
    },
    {
      "cell_type": "code",
      "execution_count": 43,
      "metadata": {
        "id": "SSbKFw2QjOk0",
        "colab": {
          "base_uri": "https://localhost:8080/"
        },
        "outputId": "12d408cc-87d3-4f56-bdfd-ef434a1bed99"
      },
      "outputs": [
        {
          "output_type": "stream",
          "name": "stdout",
          "text": [
            "Best accuracy: 0.44664031620553357\n",
            "Best hyperparameters: {'learning_rate': 0.0001, 'dropout_rate': 0.1}\n",
            "Epoch 1/5\n",
            "190/190 [==============================] - 11s 54ms/step - loss: 1.6835 - accuracy: 0.2922 - val_loss: 1.5668 - val_accuracy: 0.3478\n",
            "Epoch 2/5\n",
            "190/190 [==============================] - 8s 42ms/step - loss: 1.5262 - accuracy: 0.3781 - val_loss: 1.5223 - val_accuracy: 0.3702\n",
            "Epoch 3/5\n",
            "190/190 [==============================] - 10s 52ms/step - loss: 1.4727 - accuracy: 0.4056 - val_loss: 1.4781 - val_accuracy: 0.3933\n",
            "Epoch 4/5\n",
            "190/190 [==============================] - 8s 44ms/step - loss: 1.4192 - accuracy: 0.4343 - val_loss: 1.4606 - val_accuracy: 0.4190\n",
            "Epoch 5/5\n",
            "190/190 [==============================] - 9s 50ms/step - loss: 1.3916 - accuracy: 0.4509 - val_loss: 1.4002 - val_accuracy: 0.4440\n"
          ]
        }
      ],
      "source": [
        "print(f\"Best accuracy: {best_accuracy}\")\n",
        "print(f\"Best hyperparameters: {best_hyperparams}\")\n",
        "\n",
        "# Train final model with best hyperparameters\n",
        "final_model = create_model(learning_rate=best_hyperparams['learning_rate'], dropout_rate=best_hyperparams['dropout_rate'])\n",
        "history = final_model.fit(X_train, y_train, epochs=5, batch_size=32, validation_data=(X_test, y_test))"
      ]
    },
    {
      "cell_type": "code",
      "execution_count": 44,
      "metadata": {
        "id": "Pb3-RNlMnLRG",
        "colab": {
          "base_uri": "https://localhost:8080/"
        },
        "outputId": "42ad095f-4d1e-4218-ab94-e69109af5912"
      },
      "outputs": [
        {
          "output_type": "stream",
          "name": "stdout",
          "text": [
            "Training Accuracy: 45.09%\n",
            "48/48 [==============================] - 1s 14ms/step - loss: 1.4046 - accuracy: 0.4466\n",
            "Test Accuracy: 44.66%\n"
          ]
        }
      ],
      "source": [
        "# Get training accuracy from the history object\n",
        "train_accuracy = history.history['accuracy'][-1]\n",
        "print(f\"Training Accuracy: {train_accuracy * 100:.2f}%\")\n",
        "\n",
        "# Evaluate the model on the test dataset\n",
        "test_loss, test_accuracy = model.evaluate(X_test, y_test)\n",
        "print(f\"Test Accuracy: {test_accuracy * 100:.2f}%\")"
      ]
    },
    {
      "cell_type": "code",
      "execution_count": 48,
      "metadata": {
        "id": "kPkXn_3ApB3r",
        "colab": {
          "base_uri": "https://localhost:8080/"
        },
        "outputId": "5491238c-9cce-4266-a346-659f623f1117"
      },
      "outputs": [
        {
          "output_type": "stream",
          "name": "stdout",
          "text": [
            "Epoch 1/10\n",
            "169/169 [==============================] - 10s 58ms/step - loss: 1.0588 - accuracy: 0.6082 - val_loss: 1.2779 - val_accuracy: 0.4941\n",
            "Epoch 2/10\n",
            "169/169 [==============================] - 7s 43ms/step - loss: 1.0484 - accuracy: 0.6092 - val_loss: 1.2863 - val_accuracy: 0.4868\n",
            "Epoch 3/10\n",
            "169/169 [==============================] - 9s 53ms/step - loss: 1.0477 - accuracy: 0.6077 - val_loss: 1.2837 - val_accuracy: 0.4967\n",
            "Epoch 4/10\n",
            "169/169 [==============================] - 7s 43ms/step - loss: 1.0411 - accuracy: 0.6072 - val_loss: 1.2974 - val_accuracy: 0.4980\n",
            "Epoch 5/10\n",
            "169/169 [==============================] - 9s 53ms/step - loss: 1.0346 - accuracy: 0.6092 - val_loss: 1.2951 - val_accuracy: 0.4776\n",
            "Epoch 6/10\n",
            "169/169 [==============================] - 7s 41ms/step - loss: 1.0235 - accuracy: 0.6110 - val_loss: 1.2901 - val_accuracy: 0.4928\n",
            "Epoch 7/10\n",
            "169/169 [==============================] - 9s 53ms/step - loss: 1.0228 - accuracy: 0.6222 - val_loss: 1.2710 - val_accuracy: 0.5026\n",
            "Epoch 8/10\n",
            "169/169 [==============================] - 7s 42ms/step - loss: 1.0055 - accuracy: 0.6255 - val_loss: 1.2771 - val_accuracy: 0.5000\n",
            "Epoch 9/10\n",
            "169/169 [==============================] - 9s 54ms/step - loss: 0.9981 - accuracy: 0.6332 - val_loss: 1.3321 - val_accuracy: 0.4704\n",
            "Epoch 10/10\n",
            "169/169 [==============================] - 7s 43ms/step - loss: 0.9999 - accuracy: 0.6336 - val_loss: 1.2682 - val_accuracy: 0.4947\n"
          ]
        }
      ],
      "source": [
        "from tensorflow.keras.callbacks import EarlyStopping\n",
        "\n",
        "early_stopping = EarlyStopping(monitor='val_loss', patience=3, restore_best_weights=True)\n",
        "history = final_model.fit(X_train, y_train, epochs=10, batch_size=36, validation_data=(X_test, y_test))"
      ]
    },
    {
      "cell_type": "code",
      "execution_count": 46,
      "metadata": {
        "id": "jR3seotQpH8W",
        "colab": {
          "base_uri": "https://localhost:8080/"
        },
        "outputId": "13834f24-caec-45fd-800f-3f41964eb017"
      },
      "outputs": [
        {
          "output_type": "stream",
          "name": "stdout",
          "text": [
            "Training Accuracy: 53.08%\n",
            "48/48 [==============================] - 0s 10ms/step - loss: 1.3200 - accuracy: 0.4822\n",
            "Test Accuracy: 48.22%\n"
          ]
        }
      ],
      "source": [
        "# Get training accuracy from the history object\n",
        "train_accuracy = history.history['accuracy'][-1]\n",
        "print(f\"Training Accuracy: {train_accuracy * 100:.2f}%\")\n",
        "\n",
        "# Evaluate the model on the test dataset\n",
        "test_loss, test_accuracy = final_model.evaluate(X_test, y_test)\n",
        "print(f\"Test Accuracy: {test_accuracy * 100:.2f}%\")"
      ]
    },
    {
      "cell_type": "code",
      "execution_count": 47,
      "metadata": {
        "id": "DYLljaD6p5wF",
        "colab": {
          "base_uri": "https://localhost:8080/"
        },
        "outputId": "6920d587-e9b6-476a-e52d-47bc4156eeaf"
      },
      "outputs": [
        {
          "output_type": "stream",
          "name": "stdout",
          "text": [
            "Epoch 1/10\n",
            "169/169 [==============================] - 8s 49ms/step - loss: 1.1880 - accuracy: 0.5459 - lr: 1.0000e-04\n",
            "Epoch 2/10\n",
            "169/169 [==============================] - 7s 39ms/step - loss: 1.1791 - accuracy: 0.5395 - lr: 1.0000e-04\n",
            "Epoch 3/10\n",
            "169/169 [==============================] - 9s 52ms/step - loss: 1.1738 - accuracy: 0.5494 - lr: 1.0000e-04\n",
            "Epoch 4/10\n",
            "169/169 [==============================] - 7s 39ms/step - loss: 1.1608 - accuracy: 0.5479 - lr: 1.0000e-04\n",
            "Epoch 5/10\n",
            "169/169 [==============================] - 8s 50ms/step - loss: 1.1534 - accuracy: 0.5575 - lr: 1.0000e-04\n",
            "Epoch 6/10\n",
            "169/169 [==============================] - 7s 39ms/step - loss: 1.1224 - accuracy: 0.5718 - lr: 9.0484e-05\n",
            "Epoch 7/10\n",
            "169/169 [==============================] - 8s 49ms/step - loss: 1.1133 - accuracy: 0.5713 - lr: 8.1873e-05\n",
            "Epoch 8/10\n",
            "169/169 [==============================] - 7s 41ms/step - loss: 1.0924 - accuracy: 0.5805 - lr: 7.4082e-05\n",
            "Epoch 9/10\n",
            "169/169 [==============================] - 8s 46ms/step - loss: 1.0804 - accuracy: 0.5870 - lr: 6.7032e-05\n",
            "Epoch 10/10\n",
            "169/169 [==============================] - 8s 45ms/step - loss: 1.0756 - accuracy: 0.5919 - lr: 6.0653e-05\n"
          ]
        }
      ],
      "source": [
        "from tensorflow.keras.callbacks import LearningRateScheduler\n",
        "\n",
        "def scheduler(epoch, lr):\n",
        "    if epoch < 5:\n",
        "        return lr\n",
        "    else:\n",
        "        return lr * tf.math.exp(-0.1)\n",
        "\n",
        "lr_scheduler = LearningRateScheduler(scheduler)\n",
        "history = final_model.fit(X_train, y_train, epochs=10, batch_size=36, callbacks=[lr_scheduler])"
      ]
    },
    {
      "cell_type": "code",
      "execution_count": 49,
      "metadata": {
        "id": "rtgnQqReqV5w",
        "colab": {
          "base_uri": "https://localhost:8080/"
        },
        "outputId": "e4586b2e-cefd-4f70-d844-886349c35155"
      },
      "outputs": [
        {
          "output_type": "stream",
          "name": "stdout",
          "text": [
            "Training Accuracy: 63.36%\n",
            "48/48 [==============================] - 0s 9ms/step - loss: 1.2682 - accuracy: 0.4947\n",
            "Test Accuracy: 49.47%\n"
          ]
        }
      ],
      "source": [
        "# Get training accuracy from the history object\n",
        "train_accuracy = history.history['accuracy'][-1]\n",
        "print(f\"Training Accuracy: {train_accuracy * 100:.2f}%\")\n",
        "\n",
        "# Evaluate the model on the test dataset\n",
        "test_loss, test_accuracy = final_model.evaluate(X_test, y_test)\n",
        "print(f\"Test Accuracy: {test_accuracy * 100:.2f}%\")"
      ]
    },
    {
      "cell_type": "code",
      "execution_count": 50,
      "metadata": {
        "id": "QVbf7Z4EqiEO",
        "colab": {
          "base_uri": "https://localhost:8080/"
        },
        "outputId": "84dc030c-9d17-4aee-98e1-47317875173d"
      },
      "outputs": [
        {
          "output_type": "stream",
          "name": "stdout",
          "text": [
            "48/48 [==============================] - 1s 14ms/step\n"
          ]
        }
      ],
      "source": [
        "y_pred_prob = final_model.predict(X_test)"
      ]
    },
    {
      "cell_type": "code",
      "execution_count": 51,
      "metadata": {
        "id": "_dqUyMLPqm6Z"
      },
      "outputs": [],
      "source": [
        "# Convert predictions and true labels from one-hot encoding to label indices\n",
        "y_val_pred_classes = np.argmax(y_pred_prob, axis=1)\n",
        "y_val_true_classes = np.argmax(y_test, axis=1)\n",
        "\n",
        "# Compute the confusion matrix\n",
        "conf_matrix = confusion_matrix(y_val_true_classes, y_val_pred_classes)"
      ]
    },
    {
      "cell_type": "code",
      "execution_count": 52,
      "metadata": {
        "id": "9fpOvBiJqo1K",
        "colab": {
          "base_uri": "https://localhost:8080/",
          "height": 718
        },
        "outputId": "ffc51be9-f8b2-44d2-d667-67bf87755723"
      },
      "outputs": [
        {
          "output_type": "display_data",
          "data": {
            "text/plain": [
              "<Figure size 1000x800 with 2 Axes>"
            ],
            "image/png": "[encoded data removed]"
          },
          "metadata": {}
        }
      ],
      "source": [
        "# Compute the confusion matrix\n",
        "conf_matrix = confusion_matrix(y_val_true_classes, y_val_pred_classes)\n",
        "\n",
        "# Plot the confusion matrix\n",
        "plt.figure(figsize=(10, 8))\n",
        "sns.heatmap(conf_matrix, annot=True, fmt='d', cmap='Purples', xticklabels=[f'Class {i}' for i in range(6)], yticklabels=[f'Class {i}' for i in range(6)])\n",
        "plt.xlabel('Predicted')\n",
        "plt.ylabel('True')\n",
        "plt.title('Confusion Matrix')\n",
        "plt.show()"
      ]
    },
    {
      "cell_type": "code",
      "execution_count": 53,
      "metadata": {
        "id": "releWMbjqrKQ",
        "colab": {
          "base_uri": "https://localhost:8080/"
        },
        "outputId": "e8ce15af-6d9c-485e-91f6-06e66c14bc49"
      },
      "outputs": [
        {
          "output_type": "stream",
          "name": "stderr",
          "text": [
            "/usr/local/lib/python3.10/dist-packages/keras/src/engine/training.py:3103: UserWarning: You are saving your model as an HDF5 file via `model.save()`. This file format is considered legacy. We recommend using instead the native Keras format, e.g. `model.save('my_model.keras')`.\n",
            "  saving_api.save_model(\n"
          ]
        }
      ],
      "source": [
        "final_model.save('CNN_model.h5')"
      ]
    },
    {
      "cell_type": "code",
      "execution_count": null,
      "metadata": {
        "id": "K2flbYubq5T6"
      },
      "outputs": [],
      "source": [
        "/"
      ]
    }
  ],
  "metadata": {
    "colab": {
      "provenance": []
    },
    "kernelspec": {
      "display_name": "Python 3",
      "name": "python3"
    },
    "language_info": {
      "name": "python"
    }
  },
  "nbformat": 4,
  "nbformat_minor": 0
}