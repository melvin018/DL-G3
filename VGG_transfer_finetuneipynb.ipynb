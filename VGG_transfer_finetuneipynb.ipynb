{
  "nbformat": 4,
  "nbformat_minor": 0,
  "metadata": {
    "colab": {
      "provenance": [],
      "gpuType": "V28"
    },
    "kernelspec": {
      "name": "python3",
      "display_name": "Python 3"
    },
    "language_info": {
      "name": "python"
    },
    "accelerator": "TPU"
  },
  "cells": [
    {
      "cell_type": "markdown",
      "source": [
        "# **Build a transfer learnt model from a model trained on VGG by adding additional layers**\n",
        "\n",
        "- Cristeena Joseph - 500223331"
      ],
      "metadata": {
        "id": "J_-O-YdEmcjH"
      }
    },
    {
      "cell_type": "markdown",
      "source": [
        "**Data Preprocessing**       \n",
        "Scaling and Resizing\t- Done  \n",
        "Image Augmentation\t- Done  \n",
        "Train and test data handled correctly\t- Done     \n",
        "Gaussian Blur, Histogram Equalization and Intensity thresholds\t- Not Done\n",
        "\n",
        "**Model Trained**\n",
        "\n",
        "\n",
        "Training Time\t- Done    \n",
        "AUC and Confusion Matrix Computed\t- Done  \n",
        "Overfitting/Underfitting checked and handled\t- Done"
      ],
      "metadata": {
        "id": "4gBZMpjcmcV7"
      }
    },
    {
      "cell_type": "code",
      "source": [
        "import os\n",
        "import cv2\n",
        "import numpy as np\n",
        "import pandas as pd\n",
        "import time\n",
        "from sklearn.model_selection import train_test_split\n",
        "import seaborn as sns\n",
        "from sklearn.metrics import confusion_matrix, roc_auc_score, classification_report,roc_curve,auc\n",
        "from sklearn.metrics import accuracy_score\n",
        "\n",
        "from sklearn.metrics import roc_auc_score, confusion_matrix, ConfusionMatrixDisplay\n",
        "import matplotlib.pyplot as plt"
      ],
      "metadata": {
        "id": "HCuS63TGbCiR"
      },
      "execution_count": 1,
      "outputs": []
    },
    {
      "cell_type": "code",
      "source": [
        "import tensorflow as tf\n",
        "from tensorflow.keras import layers, models\n",
        "from tensorflow.keras.applications import VGG16\n",
        "from tensorflow.keras.preprocessing.image import ImageDataGenerator\n",
        "from tensorflow.keras.optimizers import Adam\n",
        "from tensorflow.keras.utils import to_categorical"
      ],
      "metadata": {
        "id": "wtPvIvhgfqzG"
      },
      "execution_count": 2,
      "outputs": []
    },
    {
      "cell_type": "code",
      "execution_count": 3,
      "metadata": {
        "colab": {
          "base_uri": "https://localhost:8080/"
        },
        "id": "qacl84MjYeEu",
        "outputId": "9e3ad657-16ef-46b5-b199-6bb7e48a8754"
      },
      "outputs": [
        {
          "output_type": "stream",
          "name": "stdout",
          "text": [
            "Mounted at /content/drive\n"
          ]
        }
      ],
      "source": [
        "from google.colab import drive\n",
        "drive.mount('/content/drive')"
      ]
    },
    {
      "cell_type": "code",
      "source": [
        "#Read image data\n",
        "def read_image(data_dir,filepath):\n",
        "    return cv2.imread(os.path.join(data_dir, filepath))\n",
        "\n",
        "def resize_image(image, image_size):\n",
        "    return cv2.resize(image.copy(), image_size,\n",
        "                      interpolation=cv2.INTER_AREA)"
      ],
      "metadata": {
        "id": "8jr-B56Ea5oI"
      },
      "execution_count": 4,
      "outputs": []
    },
    {
      "cell_type": "code",
      "source": [
        "image_array_data = []\n",
        "image_label = []"
      ],
      "metadata": {
        "id": "uehbFbXldjdu"
      },
      "execution_count": 5,
      "outputs": []
    },
    {
      "cell_type": "code",
      "source": [
        "# Define the path to your directory\n",
        "directory_path = '/content/drive/My Drive/emotions/dataset/'\n",
        "def img_list_return(directory_path,cls_name):\n",
        "  global image_array_data\n",
        "  global image_label\n",
        "\n",
        "  IMAGE_SIZE = 64\n",
        "\n",
        "  # List all files in the directory\n",
        "  file_folder = os.path.join(directory_path,cls_name)\n",
        "  files = os.listdir(file_folder)\n",
        "\n",
        "\n",
        "  # Print the list of files\n",
        "  for file in files:\n",
        "      img_data = read_image(file_folder,file)\n",
        "      img_data = resize_image(img_data, (IMAGE_SIZE, IMAGE_SIZE))\n",
        "      img_data = img_data/255\n",
        "      image_array_data.append(img_data)\n",
        "      image_label.append(cls_name.lower())\n",
        "\n",
        "  return image_array_data,image_label"
      ],
      "metadata": {
        "id": "A8GN_vndbDrg"
      },
      "execution_count": 6,
      "outputs": []
    },
    {
      "cell_type": "code",
      "source": [
        "cls_name = \"Angry\"\n",
        "image_array_data,image_label = img_list_return(directory_path,cls_name)"
      ],
      "metadata": {
        "id": "l_-NKDe-bh1y"
      },
      "execution_count": 7,
      "outputs": []
    },
    {
      "cell_type": "code",
      "source": [
        "cls_name = \"Ahegao\"\n",
        "image_array_data,image_label = img_list_return(directory_path,cls_name)"
      ],
      "metadata": {
        "id": "y4xNZ6oIbm7P"
      },
      "execution_count": 8,
      "outputs": []
    },
    {
      "cell_type": "code",
      "source": [
        "cls_name = \"Happy\"\n",
        "image_array_data,image_label = img_list_return(directory_path,cls_name)"
      ],
      "metadata": {
        "id": "UOTwdBIObmxS"
      },
      "execution_count": 9,
      "outputs": []
    },
    {
      "cell_type": "code",
      "source": [
        "cls_name = \"Neutral\"\n",
        "image_array_data,image_label = img_list_return(directory_path,cls_name)"
      ],
      "metadata": {
        "id": "5lgrwCCMbmm6"
      },
      "execution_count": 10,
      "outputs": []
    },
    {
      "cell_type": "code",
      "source": [
        "cls_name = \"Sad\"\n",
        "image_array_data,image_label = img_list_return(directory_path,cls_name)"
      ],
      "metadata": {
        "id": "Iicylg71dVv1"
      },
      "execution_count": 11,
      "outputs": []
    },
    {
      "cell_type": "code",
      "source": [
        "cls_name = \"Surprise\"\n",
        "image_array_data,image_label = img_list_return(directory_path,cls_name)"
      ],
      "metadata": {
        "id": "k4kC8zkLdWMJ"
      },
      "execution_count": 12,
      "outputs": []
    },
    {
      "cell_type": "code",
      "source": [
        "image_array_data[0]"
      ],
      "metadata": {
        "colab": {
          "base_uri": "https://localhost:8080/"
        },
        "collapsed": true,
        "id": "Szu4WLz8dn2k",
        "outputId": "24d909f7-c61d-4005-8100-07ce3127002f"
      },
      "execution_count": 13,
      "outputs": [
        {
          "output_type": "execute_result",
          "data": {
            "text/plain": [
              "array([[[0., 0., 0.],\n",
              "        [0., 0., 0.],\n",
              "        [0., 0., 0.],\n",
              "        ...,\n",
              "        [0., 0., 0.],\n",
              "        [0., 0., 0.],\n",
              "        [0., 0., 0.]],\n",
              "\n",
              "       [[0., 0., 0.],\n",
              "        [0., 0., 0.],\n",
              "        [0., 0., 0.],\n",
              "        ...,\n",
              "        [0., 0., 0.],\n",
              "        [0., 0., 0.],\n",
              "        [0., 0., 0.]],\n",
              "\n",
              "       [[0., 0., 0.],\n",
              "        [0., 0., 0.],\n",
              "        [0., 0., 0.],\n",
              "        ...,\n",
              "        [0., 0., 0.],\n",
              "        [0., 0., 0.],\n",
              "        [0., 0., 0.]],\n",
              "\n",
              "       ...,\n",
              "\n",
              "       [[0., 0., 0.],\n",
              "        [0., 0., 0.],\n",
              "        [0., 0., 0.],\n",
              "        ...,\n",
              "        [0., 0., 0.],\n",
              "        [0., 0., 0.],\n",
              "        [0., 0., 0.]],\n",
              "\n",
              "       [[0., 0., 0.],\n",
              "        [0., 0., 0.],\n",
              "        [0., 0., 0.],\n",
              "        ...,\n",
              "        [0., 0., 0.],\n",
              "        [0., 0., 0.],\n",
              "        [0., 0., 0.]],\n",
              "\n",
              "       [[0., 0., 0.],\n",
              "        [0., 0., 0.],\n",
              "        [0., 0., 0.],\n",
              "        ...,\n",
              "        [0., 0., 0.],\n",
              "        [0., 0., 0.],\n",
              "        [0., 0., 0.]]])"
            ]
          },
          "metadata": {},
          "execution_count": 13
        }
      ]
    },
    {
      "cell_type": "code",
      "source": [
        "X = np.array(image_array_data)"
      ],
      "metadata": {
        "id": "tVlNmV9CdqKJ"
      },
      "execution_count": 44,
      "outputs": []
    },
    {
      "cell_type": "code",
      "source": [
        "mapping = {\"ahegao\": 2, \"angry\": 0,\"happy\":1,\"sad\":3,\"neutral\":4,\"surprise\":5}\n",
        "# Map list values to numerical values\n",
        "labels = [mapping[value] for value in image_label]"
      ],
      "metadata": {
        "id": "YTjjFhIGeHxG"
      },
      "execution_count": 45,
      "outputs": []
    },
    {
      "cell_type": "code",
      "source": [
        "y = np.array(labels)"
      ],
      "metadata": {
        "id": "aavQFF8eeZm6"
      },
      "execution_count": 46,
      "outputs": []
    },
    {
      "cell_type": "code",
      "source": [
        "X.shape"
      ],
      "metadata": {
        "colab": {
          "base_uri": "https://localhost:8080/"
        },
        "id": "t5J0bjVXr5Fm",
        "outputId": "f0748da6-6efb-494b-c5b2-ca209ea4bd48"
      },
      "execution_count": 47,
      "outputs": [
        {
          "output_type": "execute_result",
          "data": {
            "text/plain": [
              "(15453, 64, 64, 3)"
            ]
          },
          "metadata": {},
          "execution_count": 47
        }
      ]
    },
    {
      "cell_type": "code",
      "source": [
        "y.shape"
      ],
      "metadata": {
        "colab": {
          "base_uri": "https://localhost:8080/"
        },
        "id": "3XHZ0eKSr7Zk",
        "outputId": "9db8bc82-9fca-4750-970b-14d804d882dc"
      },
      "execution_count": 48,
      "outputs": [
        {
          "output_type": "execute_result",
          "data": {
            "text/plain": [
              "(15453,)"
            ]
          },
          "metadata": {},
          "execution_count": 48
        }
      ]
    },
    {
      "cell_type": "markdown",
      "source": [
        "**Samples of equal proportion**"
      ],
      "metadata": {
        "id": "qpVbVmChULbD"
      }
    },
    {
      "cell_type": "code",
      "source": [
        "def create_equal_proportion_subset(X, y):\n",
        "    unique_classes = np.unique(y)\n",
        "    min_class_count = min([np.sum(y == cls) for cls in unique_classes])\n",
        "\n",
        "    X_subset = []\n",
        "    y_subset = []\n",
        "\n",
        "    for cls in unique_classes:\n",
        "        class_indices = np.where(y == cls)[0]\n",
        "        sampled_indices = np.random.choice(class_indices, min_class_count, replace=False)\n",
        "        X_subset.append(X[sampled_indices])\n",
        "        y_subset.append(y[sampled_indices])\n",
        "\n",
        "    X_subset = np.concatenate(X_subset)\n",
        "    y_subset = np.concatenate(y_subset)\n",
        "\n",
        "    return X_subset, y_subset"
      ],
      "metadata": {
        "id": "iXkyopEHGt1V"
      },
      "execution_count": 19,
      "outputs": []
    },
    {
      "cell_type": "code",
      "source": [
        "X,y = create_equal_proportion_subset(X, y)"
      ],
      "metadata": {
        "id": "vtWUrZPSG-Wc"
      },
      "execution_count": 20,
      "outputs": []
    },
    {
      "cell_type": "code",
      "source": [
        "print('Shape of X:', X.shape)\n",
        "print('Shape of y:', y.shape)"
      ],
      "metadata": {
        "colab": {
          "base_uri": "https://localhost:8080/"
        },
        "id": "jpsD0J8isDQx",
        "outputId": "9fe83412-e661-4944-fe9b-ab4fbd6be798"
      },
      "execution_count": 49,
      "outputs": [
        {
          "output_type": "stream",
          "name": "stdout",
          "text": [
            "Shape of X: (15453, 64, 64, 3)\n",
            "Shape of y: (15453,)\n"
          ]
        }
      ]
    },
    {
      "cell_type": "markdown",
      "source": [
        "**Data Augmentation**"
      ],
      "metadata": {
        "id": "Iz6LY0zGUGh5"
      }
    },
    {
      "cell_type": "code",
      "source": [
        "# Function to create balanced dataset with augmentation for classes with fewer samples\n",
        "def augment_class(X, y, target_class, target_count):\n",
        "    datagen = ImageDataGenerator(\n",
        "        rotation_range=20,\n",
        "        width_shift_range=0.2,\n",
        "        height_shift_range=0.2,\n",
        "        shear_range=0.2,\n",
        "        zoom_range=0.2,\n",
        "        horizontal_flip=True,\n",
        "        fill_mode='nearest'\n",
        "    )\n",
        "\n",
        "    class_indices = np.where(y == target_class)[0]\n",
        "    class_samples = X[class_indices]\n",
        "\n",
        "    augmented_images = []\n",
        "    while len(augmented_images) < target_count:\n",
        "        for batch in datagen.flow(class_samples, batch_size=1):\n",
        "            augmented_images.append(batch[0])\n",
        "            if len(augmented_images) >= target_count:\n",
        "                break\n",
        "\n",
        "    X_augmented = np.concatenate([X, np.array(augmented_images)])\n",
        "    y_augmented = np.concatenate([y, np.full(len(augmented_images), target_class)])\n",
        "\n",
        "    return X_augmented, y_augmented"
      ],
      "metadata": {
        "id": "0YDVk4pVL5pP"
      },
      "execution_count": 50,
      "outputs": []
    },
    {
      "cell_type": "code",
      "source": [
        "\n",
        "X,y = augment_class(X, y, 0, 60)\n",
        "X,y = augment_class(X, y, 1, 60)\n",
        "X,y = augment_class(X, y, 2, 60)\n",
        "X,y = augment_class(X, y, 3, 60)\n",
        "X,y = augment_class(X, y, 4, 60)\n",
        "X,y  = augment_class(X, y, 5, 60)\n"
      ],
      "metadata": {
        "id": "dqicYJBONPNe"
      },
      "execution_count": 51,
      "outputs": []
    },
    {
      "cell_type": "code",
      "source": [
        "y = to_categorical(y, num_classes=6)"
      ],
      "metadata": {
        "id": "EmJS8nP6T8OS"
      },
      "execution_count": 52,
      "outputs": []
    },
    {
      "cell_type": "code",
      "source": [
        "# Display the shape of the data\n",
        "print('Shape of X:', X.shape)\n",
        "print('Shape of y:', y.shape)"
      ],
      "metadata": {
        "colab": {
          "base_uri": "https://localhost:8080/"
        },
        "id": "dsq-5lwUefAQ",
        "outputId": "9610c61b-9128-4332-84f5-df4291e6196c"
      },
      "execution_count": 53,
      "outputs": [
        {
          "output_type": "stream",
          "name": "stdout",
          "text": [
            "Shape of X: (15813, 64, 64, 3)\n",
            "Shape of y: (15813, 6)\n"
          ]
        }
      ]
    },
    {
      "cell_type": "code",
      "source": [
        "X_train, X_test, y_train, y_test = train_test_split(X, y, test_size=0.2, random_state=42)"
      ],
      "metadata": {
        "id": "6bIDSwBPefxJ"
      },
      "execution_count": 54,
      "outputs": []
    },
    {
      "cell_type": "code",
      "source": [
        "\n",
        "# Load the pre-trained VGG16 model without the top layers\n",
        "base_model = VGG16(weights='imagenet', include_top=False, input_shape=(64, 64, 3))\n",
        "\n",
        "# Freeze the base model layers\n",
        "for layer in base_model.layers:\n",
        "    layer.trainable = False\n",
        "\n",
        "# Add new layers on top of the base model\n",
        "model = models.Sequential([\n",
        "    base_model,\n",
        "    layers.Flatten(),\n",
        "    layers.Dense(256, activation='relu'),\n",
        "    layers.Dropout(0.5),\n",
        "    layers.Dense(6, activation='softmax')  # 6 output classes for 6 emotions\n",
        "])"
      ],
      "metadata": {
        "id": "EBI-6Flgei8l",
        "colab": {
          "base_uri": "https://localhost:8080/"
        },
        "outputId": "04800482-6870-48fd-801c-00a39c0f63d2"
      },
      "execution_count": 27,
      "outputs": [
        {
          "output_type": "stream",
          "name": "stdout",
          "text": [
            "Downloading data from https://storage.googleapis.com/tensorflow/keras-applications/vgg16/vgg16_weights_tf_dim_ordering_tf_kernels_notop.h5\n",
            "58889256/58889256 [==============================] - 0s 0us/step\n"
          ]
        }
      ]
    },
    {
      "cell_type": "code",
      "source": [
        "# Compile the model\n",
        "model.compile(optimizer=Adam(learning_rate=0.001),\n",
        "              loss='categorical_crossentropy',  # Use categorical crossentropy for multi-class classification\n",
        "              metrics=['accuracy'])\n"
      ],
      "metadata": {
        "id": "iIs_tfvufxED"
      },
      "execution_count": 28,
      "outputs": []
    },
    {
      "cell_type": "code",
      "source": [
        "# Summary of the model\n",
        "model.summary()"
      ],
      "metadata": {
        "colab": {
          "base_uri": "https://localhost:8080/"
        },
        "id": "tFtAayNvf2xf",
        "outputId": "7e830c92-e26a-408e-b0d9-de6d1e59d872"
      },
      "execution_count": 29,
      "outputs": [
        {
          "output_type": "stream",
          "name": "stdout",
          "text": [
            "Model: \"sequential\"\n",
            "_________________________________________________________________\n",
            " Layer (type)                Output Shape              Param #   \n",
            "=================================================================\n",
            " vgg16 (Functional)          (None, 2, 2, 512)         14714688  \n",
            "                                                                 \n",
            " flatten (Flatten)           (None, 2048)              0         \n",
            "                                                                 \n",
            " dense (Dense)               (None, 256)               524544    \n",
            "                                                                 \n",
            " dropout (Dropout)           (None, 256)               0         \n",
            "                                                                 \n",
            " dense_1 (Dense)             (None, 6)                 1542      \n",
            "                                                                 \n",
            "=================================================================\n",
            "Total params: 15240774 (58.14 MB)\n",
            "Trainable params: 526086 (2.01 MB)\n",
            "Non-trainable params: 14714688 (56.13 MB)\n",
            "_________________________________________________________________\n"
          ]
        }
      ]
    },
    {
      "cell_type": "code",
      "source": [
        "# Record the start time\n",
        "start_time = time.time()\n",
        "\n",
        "# Train the model\n",
        "model.fit(X_train, y_train, epochs=3, batch_size=32)\n",
        "\n",
        "end_time = time.time()\n",
        "print(f\"Training time taken : {end_time-start_time}\")"
      ],
      "metadata": {
        "colab": {
          "base_uri": "https://localhost:8080/"
        },
        "id": "e9nqzYKKf5hx",
        "outputId": "4f80d846-0653-4a2c-9cc8-47fd2de81002"
      },
      "execution_count": 30,
      "outputs": [
        {
          "output_type": "stream",
          "name": "stdout",
          "text": [
            "Epoch 1/3\n",
            "256/256 [==============================] - 22s 84ms/step - loss: 1.4231 - accuracy: 0.4252\n",
            "Epoch 2/3\n",
            "256/256 [==============================] - 21s 82ms/step - loss: 1.2573 - accuracy: 0.4991\n",
            "Epoch 3/3\n",
            "256/256 [==============================] - 21s 82ms/step - loss: 1.1833 - accuracy: 0.5257\n",
            "Training time taken : 65.26264905929565\n"
          ]
        }
      ]
    },
    {
      "cell_type": "code",
      "source": [
        "y_pred_prob = model.predict(X_test)"
      ],
      "metadata": {
        "colab": {
          "base_uri": "https://localhost:8080/"
        },
        "id": "1zvQY9YtrudU",
        "outputId": "f44f6f3b-3b31-4f8f-b514-72a38dff9aa8"
      },
      "execution_count": 31,
      "outputs": [
        {
          "output_type": "stream",
          "name": "stdout",
          "text": [
            "64/64 [==============================] - 5s 82ms/step\n"
          ]
        }
      ]
    },
    {
      "cell_type": "code",
      "source": [
        "# Convert predictions and true labels from one-hot encoding to label indices\n",
        "y_val_pred_classes = np.argmax(y_pred_prob, axis=1)\n",
        "y_val_true_classes = np.argmax(y_test, axis=1)\n",
        "\n",
        "# Compute the confusion matrix\n",
        "conf_matrix = confusion_matrix(y_val_true_classes, y_val_pred_classes)"
      ],
      "metadata": {
        "id": "i5mNjRdU9YC-"
      },
      "execution_count": 32,
      "outputs": []
    },
    {
      "cell_type": "code",
      "source": [
        "# Compute the confusion matrix\n",
        "conf_matrix = confusion_matrix(y_val_true_classes, y_val_pred_classes)\n",
        "\n",
        "# Plot the confusion matrix\n",
        "plt.figure(figsize=(10, 8))\n",
        "sns.heatmap(conf_matrix, annot=True, fmt='d', cmap='Blues', xticklabels=[f'Class {i}' for i in range(6)], yticklabels=[f'Class {i}' for i in range(6)])\n",
        "plt.xlabel('Predicted')\n",
        "plt.ylabel('True')\n",
        "plt.title('Confusion Matrix')\n",
        "plt.show()\n",
        "\n"
      ],
      "metadata": {
        "colab": {
          "base_uri": "https://localhost:8080/",
          "height": 718
        },
        "id": "0YVQECR1gaPi",
        "outputId": "57994d61-6b51-44e3-de9e-17bc9aa90831"
      },
      "execution_count": 33,
      "outputs": [
        {
          "output_type": "display_data",
          "data": {
            "text/plain": [
              "<Figure size 1000x800 with 2 Axes>"
            ],
            "image/png": "[encoded data removed]"
          },
          "metadata": {}
        }
      ]
    },
    {
      "cell_type": "markdown",
      "source": [
        "# **Empirical tuning**"
      ],
      "metadata": {
        "id": "hL6wTxpOW7N4"
      }
    },
    {
      "cell_type": "code",
      "source": [
        "# Define function to create the model\n",
        "def create_model(learning_rate=0.001, dropout_rate=0.5):\n",
        "    base_model = VGG16(weights='imagenet', include_top=False, input_shape=(64, 64, 3))\n",
        "\n",
        "    for layer in base_model.layers:\n",
        "        layer.trainable = False\n",
        "\n",
        "    model = models.Sequential([\n",
        "        base_model,\n",
        "        layers.Flatten(),\n",
        "        layers.Dense(256, activation='relu'),\n",
        "        layers.Dropout(dropout_rate),\n",
        "        layers.Dense(6, activation='softmax')\n",
        "    ])\n",
        "\n",
        "    optimizer = Adam(learning_rate=learning_rate)\n",
        "    model.compile(optimizer=optimizer, loss='categorical_crossentropy', metrics=['accuracy'])\n",
        "    return model\n"
      ],
      "metadata": {
        "id": "9DXX88p0soi-"
      },
      "execution_count": 34,
      "outputs": []
    },
    {
      "cell_type": "code",
      "source": [
        "# Define hyperparameter ranges\n",
        "learning_rates = [0.001, 0.0001]\n",
        "dropout_rates = [0,0.1]\n",
        "\n",
        "best_accuracy = 0\n",
        "best_hyperparams = {}\n",
        "\n",
        "# Empirical tuning\n",
        "for lr in learning_rates:\n",
        "    for dr in dropout_rates:\n",
        "        model = create_model(learning_rate=lr, dropout_rate=dr)\n",
        "        model.fit(X_train, y_train, epochs=10, batch_size=32, validation_data=(X_test, y_test), verbose=0)\n",
        "\n",
        "        # Evaluate the model\n",
        "        y_val_pred = model.predict(X_test)\n",
        "        y_val_pred_classes = np.argmax(y_val_pred, axis=1)\n",
        "        y_val_true_classes = np.argmax(y_test, axis=1)\n",
        "        accuracy = accuracy_score(y_val_true_classes, y_val_pred_classes)\n",
        "\n",
        "        # Check if this is the best model\n",
        "        if accuracy > best_accuracy:\n",
        "            best_accuracy = accuracy\n",
        "            best_hyperparams = {'learning_rate': lr, 'dropout_rate': dr}"
      ],
      "metadata": {
        "colab": {
          "base_uri": "https://localhost:8080/"
        },
        "id": "kAfuD4JvV8_Q",
        "outputId": "36dcbe2e-c002-4a10-a07f-e4f4c0f072e7",
        "collapsed": true
      },
      "execution_count": 37,
      "outputs": [
        {
          "output_type": "stream",
          "name": "stdout",
          "text": [
            "64/64 [==============================] - 5s 79ms/step\n",
            "64/64 [==============================] - 5s 83ms/step\n",
            "64/64 [==============================] - 5s 82ms/step\n",
            "64/64 [==============================] - 5s 83ms/step\n"
          ]
        }
      ]
    },
    {
      "cell_type": "code",
      "source": [
        "print(f\"Best accuracy: {best_accuracy}\")\n",
        "print(f\"Best hyperparameters: {best_hyperparams}\")\n",
        "\n",
        "# Train final model with best hyperparameters\n",
        "final_model = create_model(learning_rate=best_hyperparams['learning_rate'], dropout_rate=best_hyperparams['dropout_rate'])\n",
        "history = final_model.fit(X_train, y_train, epochs=10, batch_size=32, validation_data=(X_test, y_test))"
      ],
      "metadata": {
        "colab": {
          "base_uri": "https://localhost:8080/"
        },
        "id": "ijsPwVGNV628",
        "outputId": "0d68f93e-206b-4ef3-8b9a-fb85a807e77d"
      },
      "execution_count": 38,
      "outputs": [
        {
          "output_type": "stream",
          "name": "stdout",
          "text": [
            "Best accuracy: 0.5498533724340176\n",
            "Best hyperparameters: {'learning_rate': 0.001, 'dropout_rate': 0.1}\n",
            "Epoch 1/10\n",
            "256/256 [==============================] - 29s 107ms/step - loss: 1.3326 - accuracy: 0.4708 - val_loss: 1.2556 - val_accuracy: 0.4946\n",
            "Epoch 2/10\n",
            "256/256 [==============================] - 27s 106ms/step - loss: 1.1362 - accuracy: 0.5544 - val_loss: 1.2371 - val_accuracy: 0.5269\n",
            "Epoch 3/10\n",
            "256/256 [==============================] - 27s 104ms/step - loss: 1.0313 - accuracy: 0.6004 - val_loss: 1.2348 - val_accuracy: 0.5249\n",
            "Epoch 4/10\n",
            "256/256 [==============================] - 26s 104ms/step - loss: 0.9460 - accuracy: 0.6370 - val_loss: 1.2200 - val_accuracy: 0.5254\n",
            "Epoch 5/10\n",
            "256/256 [==============================] - 27s 105ms/step - loss: 0.8808 - accuracy: 0.6673 - val_loss: 1.1880 - val_accuracy: 0.5450\n",
            "Epoch 6/10\n",
            "256/256 [==============================] - 27s 104ms/step - loss: 0.8059 - accuracy: 0.6917 - val_loss: 1.2884 - val_accuracy: 0.5264\n",
            "Epoch 7/10\n",
            "256/256 [==============================] - 26s 103ms/step - loss: 0.7374 - accuracy: 0.7197 - val_loss: 1.2286 - val_accuracy: 0.5415\n",
            "Epoch 8/10\n",
            "256/256 [==============================] - 26s 103ms/step - loss: 0.6777 - accuracy: 0.7450 - val_loss: 1.2998 - val_accuracy: 0.5342\n",
            "Epoch 9/10\n",
            "256/256 [==============================] - 26s 103ms/step - loss: 0.5981 - accuracy: 0.7845 - val_loss: 1.2865 - val_accuracy: 0.5591\n",
            "Epoch 10/10\n",
            "256/256 [==============================] - 26s 103ms/step - loss: 0.5411 - accuracy: 0.8008 - val_loss: 1.3026 - val_accuracy: 0.5709\n"
          ]
        }
      ]
    },
    {
      "cell_type": "markdown",
      "source": [
        "**Training and test accuracy of best model**"
      ],
      "metadata": {
        "id": "cAVcCfN05izd"
      }
    },
    {
      "cell_type": "code",
      "source": [
        "# Get training accuracy from the history object\n",
        "train_accuracy = history.history['accuracy'][-1]\n",
        "print(f\"Training Accuracy: {train_accuracy * 100:.2f}%\")\n",
        "\n",
        "# Evaluate the model on the test dataset\n",
        "test_loss, test_accuracy = model.evaluate(X_test, y_test)\n",
        "print(f\"Test Accuracy: {test_accuracy * 100:.2f}%\")"
      ],
      "metadata": {
        "colab": {
          "base_uri": "https://localhost:8080/"
        },
        "id": "ab0WCgcd5nw5",
        "outputId": "7d07e576-27df-464f-ebff-41b34ec33466"
      },
      "execution_count": 39,
      "outputs": [
        {
          "output_type": "stream",
          "name": "stdout",
          "text": [
            "Training Accuracy: 80.08%\n",
            "64/64 [==============================] - 5s 83ms/step - loss: 1.1674 - accuracy: 0.5445\n",
            "Test Accuracy: 54.45%\n"
          ]
        }
      ]
    },
    {
      "cell_type": "markdown",
      "source": [
        "# **Model Finetuning**"
      ],
      "metadata": {
        "id": "CBSHPlGayfdS"
      }
    },
    {
      "cell_type": "markdown",
      "source": [
        "Increased the sample data"
      ],
      "metadata": {
        "id": "sHf-QU4Ry2xp"
      }
    },
    {
      "cell_type": "code",
      "source": [
        "from tensorflow.keras.callbacks import EarlyStopping\n",
        "\n",
        "early_stopping = EarlyStopping(monitor='val_loss', patience=3, restore_best_weights=True)\n",
        "history = final_model.fit(X_train, y_train, epochs=10, batch_size=36, validation_data=(X_test, y_test))\n"
      ],
      "metadata": {
        "id": "RWzqkByUXStn",
        "colab": {
          "base_uri": "https://localhost:8080/"
        },
        "outputId": "9787c279-baf8-45cc-dbe2-bdbd57057d24"
      },
      "execution_count": 55,
      "outputs": [
        {
          "output_type": "stream",
          "name": "stdout",
          "text": [
            "Epoch 1/10\n",
            "352/352 [==============================] - 40s 112ms/step - loss: 1.1662 - accuracy: 0.5777 - val_loss: 1.0074 - val_accuracy: 0.5972\n",
            "Epoch 2/10\n",
            "352/352 [==============================] - 38s 109ms/step - loss: 0.9252 - accuracy: 0.6360 - val_loss: 1.0026 - val_accuracy: 0.6159\n",
            "Epoch 3/10\n",
            "352/352 [==============================] - 38s 109ms/step - loss: 0.8248 - accuracy: 0.6719 - val_loss: 0.9561 - val_accuracy: 0.6320\n",
            "Epoch 4/10\n",
            "352/352 [==============================] - 38s 108ms/step - loss: 0.7276 - accuracy: 0.7108 - val_loss: 0.9750 - val_accuracy: 0.6345\n",
            "Epoch 5/10\n",
            "352/352 [==============================] - 39s 111ms/step - loss: 0.6647 - accuracy: 0.7330 - val_loss: 0.9928 - val_accuracy: 0.6285\n",
            "Epoch 6/10\n",
            "352/352 [==============================] - 39s 112ms/step - loss: 0.6066 - accuracy: 0.7602 - val_loss: 1.0058 - val_accuracy: 0.6380\n",
            "Epoch 7/10\n",
            "352/352 [==============================] - 39s 112ms/step - loss: 0.5517 - accuracy: 0.7840 - val_loss: 1.0357 - val_accuracy: 0.6364\n",
            "Epoch 8/10\n",
            "352/352 [==============================] - 39s 110ms/step - loss: 0.4963 - accuracy: 0.8037 - val_loss: 1.0360 - val_accuracy: 0.6390\n",
            "Epoch 9/10\n",
            "352/352 [==============================] - 39s 112ms/step - loss: 0.4467 - accuracy: 0.8262 - val_loss: 1.0506 - val_accuracy: 0.6339\n",
            "Epoch 10/10\n",
            "352/352 [==============================] - 39s 111ms/step - loss: 0.4093 - accuracy: 0.8401 - val_loss: 1.1119 - val_accuracy: 0.6273\n"
          ]
        }
      ]
    },
    {
      "cell_type": "code",
      "source": [
        "# Get training accuracy from the history object\n",
        "train_accuracy = history.history['accuracy'][-1]\n",
        "print(f\"Training Accuracy: {train_accuracy * 100:.2f}%\")\n",
        "\n",
        "# Evaluate the model on the test dataset\n",
        "test_loss, test_accuracy = final_model.evaluate(X_test, y_test)\n",
        "print(f\"Test Accuracy: {test_accuracy * 100:.2f}%\")"
      ],
      "metadata": {
        "colab": {
          "base_uri": "https://localhost:8080/"
        },
        "id": "LiJnDqAsBsrM",
        "outputId": "2d200258-11bd-420d-8da9-ae52b69117b8"
      },
      "execution_count": 57,
      "outputs": [
        {
          "output_type": "stream",
          "name": "stdout",
          "text": [
            "Training Accuracy: 84.01%\n",
            "99/99 [==============================] - 8s 80ms/step - loss: 1.1119 - accuracy: 0.6273\n",
            "Test Accuracy: 62.73%\n"
          ]
        }
      ]
    },
    {
      "cell_type": "markdown",
      "source": [
        "**Learning Rate Scheduler**"
      ],
      "metadata": {
        "id": "gxoukFCoNUuM"
      }
    },
    {
      "cell_type": "code",
      "source": [
        "from tensorflow.keras.callbacks import LearningRateScheduler\n",
        "\n",
        "def scheduler(epoch, lr):\n",
        "    if epoch < 5:\n",
        "        return lr\n",
        "    else:\n",
        "        return lr * tf.math.exp(-0.1)\n",
        "\n",
        "lr_scheduler = LearningRateScheduler(scheduler)\n",
        "history = final_model.fit(X_train, y_train, epochs=10, batch_size=36, callbacks=[lr_scheduler])\n"
      ],
      "metadata": {
        "colab": {
          "base_uri": "https://localhost:8080/"
        },
        "id": "-5BeTrYkM-uL",
        "outputId": "5f633081-6d37-4fb5-9dc8-79b4ce262a55"
      },
      "execution_count": 59,
      "outputs": [
        {
          "output_type": "stream",
          "name": "stdout",
          "text": [
            "Epoch 1/10\n",
            "352/352 [==============================] - 32s 90ms/step - loss: 0.3754 - accuracy: 0.8553 - lr: 0.0010\n",
            "Epoch 2/10\n",
            "352/352 [==============================] - 32s 90ms/step - loss: 0.3466 - accuracy: 0.8708 - lr: 0.0010\n",
            "Epoch 3/10\n",
            "352/352 [==============================] - 31s 89ms/step - loss: 0.3035 - accuracy: 0.8870 - lr: 0.0010\n",
            "Epoch 4/10\n",
            "352/352 [==============================] - 31s 88ms/step - loss: 0.2873 - accuracy: 0.8961 - lr: 0.0010\n",
            "Epoch 5/10\n",
            "352/352 [==============================] - 31s 88ms/step - loss: 0.2625 - accuracy: 0.9041 - lr: 0.0010\n",
            "Epoch 6/10\n",
            "352/352 [==============================] - 31s 88ms/step - loss: 0.2263 - accuracy: 0.9207 - lr: 9.0484e-04\n",
            "Epoch 7/10\n",
            "352/352 [==============================] - 31s 88ms/step - loss: 0.1940 - accuracy: 0.9321 - lr: 8.1873e-04\n",
            "Epoch 8/10\n",
            "352/352 [==============================] - 31s 87ms/step - loss: 0.1681 - accuracy: 0.9434 - lr: 7.4082e-04\n",
            "Epoch 9/10\n",
            "352/352 [==============================] - 31s 88ms/step - loss: 0.1508 - accuracy: 0.9504 - lr: 6.7032e-04\n",
            "Epoch 10/10\n",
            "352/352 [==============================] - 31s 88ms/step - loss: 0.1307 - accuracy: 0.9600 - lr: 6.0653e-04\n"
          ]
        }
      ]
    },
    {
      "cell_type": "code",
      "source": [
        "# Get training accuracy from the history object\n",
        "train_accuracy = history.history['accuracy'][-1]\n",
        "print(f\"Training Accuracy: {train_accuracy * 100:.2f}%\")\n",
        "\n",
        "# Evaluate the model on the test dataset\n",
        "test_loss, test_accuracy = final_model.evaluate(X_test, y_test)\n",
        "print(f\"Test Accuracy: {test_accuracy * 100:.2f}%\")"
      ],
      "metadata": {
        "colab": {
          "base_uri": "https://localhost:8080/"
        },
        "id": "DC8edI0wNnDX",
        "outputId": "1e8035ac-0ebd-4827-8917-0fa1b5cb31b7"
      },
      "execution_count": 60,
      "outputs": [
        {
          "output_type": "stream",
          "name": "stdout",
          "text": [
            "Training Accuracy: 96.00%\n",
            "99/99 [==============================] - 8s 79ms/step - loss: 1.4493 - accuracy: 0.6336\n",
            "Test Accuracy: 63.36%\n"
          ]
        }
      ]
    },
    {
      "cell_type": "code",
      "source": [
        "y_pred_prob = final_model.predict(X_test)"
      ],
      "metadata": {
        "colab": {
          "base_uri": "https://localhost:8080/"
        },
        "id": "fGgTcX5URQKk",
        "outputId": "3b05e53f-3011-4cda-8830-cd006e795585"
      },
      "execution_count": 62,
      "outputs": [
        {
          "output_type": "stream",
          "name": "stdout",
          "text": [
            "99/99 [==============================] - 8s 81ms/step\n"
          ]
        }
      ]
    },
    {
      "cell_type": "code",
      "source": [
        "# Convert predictions and true labels from one-hot encoding to label indices\n",
        "y_val_pred_classes = np.argmax(y_pred_prob, axis=1)\n",
        "y_val_true_classes = np.argmax(y_test, axis=1)\n",
        "\n",
        "# Compute the confusion matrix\n",
        "conf_matrix = confusion_matrix(y_val_true_classes, y_val_pred_classes)"
      ],
      "metadata": {
        "id": "LP50igFLQ8eY"
      },
      "execution_count": 63,
      "outputs": []
    },
    {
      "cell_type": "code",
      "source": [
        "# Compute the confusion matrix\n",
        "conf_matrix = confusion_matrix(y_val_true_classes, y_val_pred_classes)\n",
        "\n",
        "# Plot the confusion matrix\n",
        "plt.figure(figsize=(10, 8))\n",
        "sns.heatmap(conf_matrix, annot=True, fmt='d', cmap='Blues', xticklabels=[f'Class {i}' for i in range(6)], yticklabels=[f'Class {i}' for i in range(6)])\n",
        "plt.xlabel('Predicted')\n",
        "plt.ylabel('True')\n",
        "plt.title('Confusion Matrix')\n",
        "plt.show()\n",
        "\n"
      ],
      "metadata": {
        "colab": {
          "base_uri": "https://localhost:8080/",
          "height": 718
        },
        "id": "Loip5h60RUop",
        "outputId": "93995a95-75f3-4c54-e4cb-2e03e12b0a0f"
      },
      "execution_count": 64,
      "outputs": [
        {
          "output_type": "display_data",
          "data": {
            "text/plain": [
              "<Figure size 1000x800 with 2 Axes>"
            ],
            "image/png": "[encoded data removed]"
          },
          "metadata": {}
        }
      ]
    },
    {
      "cell_type": "code",
      "source": [
        "final_model.save('VGG_freeze.h5')"
      ],
      "metadata": {
        "colab": {
          "base_uri": "https://localhost:8080/"
        },
        "id": "38mtY-t2RY_A",
        "outputId": "e6fdb3ba-ecef-4d72-df6d-5b9c26e388cb"
      },
      "execution_count": 65,
      "outputs": [
        {
          "output_type": "stream",
          "name": "stderr",
          "text": [
            "/usr/local/lib/python3.10/dist-packages/keras/src/engine/training.py:3103: UserWarning: You are saving your model as an HDF5 file via `model.save()`. This file format is considered legacy. We recommend using instead the native Keras format, e.g. `model.save('my_model.keras')`.\n",
            "  saving_api.save_model(\n"
          ]
        }
      ]
    },
    {
      "cell_type": "code",
      "source": [],
      "metadata": {
        "id": "hUuhqt9vS5YU"
      },
      "execution_count": null,
      "outputs": []
    }
  ]
}